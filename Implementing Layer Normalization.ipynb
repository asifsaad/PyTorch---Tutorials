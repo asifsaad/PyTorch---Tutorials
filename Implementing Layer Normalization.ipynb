{
 "cells": [
  {
   "cell_type": "code",
   "execution_count": 40,
   "metadata": {},
   "outputs": [],
   "source": [
    "import numpy as np\n",
    "import torch.nn as nn\n",
    "import torch"
   ]
  },
  {
   "cell_type": "markdown",
   "metadata": {},
   "source": [
    "### Implementing Layer Normalization using Numpy & Pytorch"
   ]
  },
  {
   "cell_type": "markdown",
   "metadata": {},
   "source": []
  },
  {
   "cell_type": "code",
   "execution_count": null,
   "metadata": {},
   "outputs": [
    {
     "data": {
      "text/plain": [
       "array([[ 0.05953112, -0.94285007,  0.29786028,  1.67967986, -1.09422119],\n",
       "       [-0.91394636,  1.5550132 ,  0.4497398 , -1.23436916,  0.14356252],\n",
       "       [ 0.48820066,  0.48539044,  1.34556226, -1.27405024, -1.04510313]])"
      ]
     },
     "execution_count": 39,
     "metadata": {},
     "output_type": "execute_result"
    }
   ],
   "source": [
    "\n",
    "\n",
    "class LayerNorm:\n",
    "    def __init__(self, feature_dim, epsilon = 1e-5):\n",
    "        self.epsilon = epsilon\n",
    "        ## This is for the broadcasting operation to restore the original\n",
    "        self.gamma = np.ones((1, feature_dim))\n",
    "        self.beta = np.zeros((1, feature_dim))\n",
    "\n",
    "    def forward(self, x):\n",
    "        ## compute mean and variance\n",
    "        \n",
    "        ## A key insight is, since this is Layer Normalization, \n",
    "        ## here the statistics are calculated across the features for a given sample\n",
    "        ## For the issue, of difference of scale among features, Feature scaling should already have been done on the input dataset\n",
    "        mean = np.mean(x, axis = -1, keepdims = True)\n",
    "        ## This would yield one mean, one variance per sample\n",
    "        var = np.var(x, axis = -1, keepdims = True)\n",
    "        \n",
    "        # Normalize\n",
    "        x_hat = (x-mean)/ np.sqrt(var + self.epsilon)\n",
    "        \n",
    "        # Scale and Shift\n",
    "        out = self.gamma * x_hat + self.beta\n",
    "        return out\n",
    "    \n",
    "\n",
    "\n",
    "np.random.seed(42)\n",
    "x = np.random.randn(3, 5)\n",
    "layer_norm = LayerNorm(feature_dim = 5)\n",
    "output = layer_norm.forward(x)\n",
    "\n",
    "output"
   ]
  },
  {
   "cell_type": "markdown",
   "metadata": {},
   "source": [
    "### Implementing Layer Normalization using PyTorch"
   ]
  },
  {
   "cell_type": "markdown",
   "metadata": {},
   "source": []
  },
  {
   "cell_type": "code",
   "execution_count": 41,
   "metadata": {},
   "outputs": [
    {
     "data": {
      "text/plain": [
       "tensor([[ 1.1021, -1.1830, -0.7301,  0.9173, -0.1064],\n",
       "        [ 0.3102,  0.4283, -0.5087,  1.1956, -1.4255],\n",
       "        [ 1.2521, -0.8476, -0.5878,  0.9137, -0.7304]], grad_fn=<AddBackward0>)"
      ]
     },
     "execution_count": 41,
     "metadata": {},
     "output_type": "execute_result"
    }
   ],
   "source": [
    "class CustomLayerNorm(nn.Module):\n",
    "    def __init__(self, feature_dim, epsilon = 1e-5):\n",
    "        super(CustomLayerNorm, self).__init__()\n",
    "        self.epsilon = epsilon\n",
    "        ## trainable parameters\n",
    "        self.gamma = nn.Parameter(torch.ones(feature_dim))\n",
    "        self.beta = nn.Parameter(torch.zeros(feature_dim))\n",
    "\n",
    "    def forward(self, x):\n",
    "        mean = x.mean(dim = -1, keepdim = True)\n",
    "        var = x.var(dim = -1, keepdim = True)\n",
    "\n",
    "        x_hat = (x-mean) / torch.sqrt(var + self.epsilon)\n",
    "        out = self.gamma * x_hat + self.beta\n",
    "\n",
    "        return out\n",
    "    \n",
    "x = torch.randn(3, 5)\n",
    "layer_norm_custom = CustomLayerNorm(feature_dim = 5)\n",
    "output = layer_norm_custom(x)\n",
    "\n",
    "output"
   ]
  },
  {
   "cell_type": "code",
   "execution_count": null,
   "metadata": {},
   "outputs": [],
   "source": []
  },
  {
   "cell_type": "markdown",
   "metadata": {},
   "source": [
    "### Implementing NN with and without Layer normalization"
   ]
  },
  {
   "cell_type": "code",
   "execution_count": 15,
   "metadata": {},
   "outputs": [
    {
     "name": "stdout",
     "output_type": "stream",
     "text": [
      "Torch version: 2.2.1\n"
     ]
    }
   ],
   "source": [
    "import torch\n",
    "import torch.nn as nn\n",
    "import torch.optim as optim\n",
    "import matplotlib.pyplot as plt\n",
    "import numpy as np\n",
    "print(f\"Torch version: {torch.__version__}\")"
   ]
  },
  {
   "cell_type": "code",
   "execution_count": 13,
   "metadata": {},
   "outputs": [],
   "source": [
    "## defining the dimensions of the dataset\n",
    "torch.manual_seed(42)\n",
    "n_samples = 10000\n",
    "n_features = 5\n"
   ]
  },
  {
   "cell_type": "markdown",
   "metadata": {},
   "source": [
    "#### Creating synthetic data"
   ]
  },
  {
   "cell_type": "code",
   "execution_count": 16,
   "metadata": {},
   "outputs": [
    {
     "name": "stdout",
     "output_type": "stream",
     "text": [
      "X.shape:  torch.Size([10000, 5])\n",
      "y.shape:  torch.Size([10000, 1])\n"
     ]
    }
   ],
   "source": [
    "X = torch.rand(n_samples, n_features) * torch.tensor([1, 10, 100, 1000, 10000], \n",
    "                                        dtype = torch.float32)\n",
    "\n",
    "X[:, 4] = X[:, 1]**2 + X[:, 0]\n",
    "X[:, 3] = X[:, 1]*2 + X[:, 0] * 3\n",
    "\n",
    "y = X.sum(dim = 1, keepdim = True) + torch.rand(n_samples, 1) * 10\n",
    "print(\"X.shape: \", X.shape)\n",
    "print(\"y.shape: \", y.shape)"
   ]
  },
  {
   "cell_type": "code",
   "execution_count": 4,
   "metadata": {},
   "outputs": [
    {
     "data": {
      "text/plain": [
       "tensor([[[10.4016]],\n",
       "\n",
       "        [[ 8.6152]],\n",
       "\n",
       "        [[11.5268]]])"
      ]
     },
     "execution_count": 4,
     "metadata": {},
     "output_type": "execute_result"
    }
   ],
   "source": [
    "torch.rand(3, 5, 4).sum(dim = (1, 2), keepdims = True)"
   ]
  },
  {
   "cell_type": "code",
   "execution_count": null,
   "metadata": {},
   "outputs": [],
   "source": [
    "\n"
   ]
  },
  {
   "cell_type": "code",
   "execution_count": 5,
   "metadata": {},
   "outputs": [
    {
     "name": "stdout",
     "output_type": "stream",
     "text": [
      "8000\n",
      "torch.Size([8000, 5])\n",
      "torch.Size([2000, 1])\n"
     ]
    }
   ],
   "source": [
    "## performing the train-test split\n",
    "train_size = int(0.8 * n_samples)\n",
    "\n",
    "X_train, X_test = X[:train_size], X[train_size:]\n",
    "y_train, y_test = y[:train_size], y[train_size:]\n",
    "\n",
    "print(train_size)\n",
    "print(X_train.shape)\n",
    "print(y_test.shape)"
   ]
  },
  {
   "cell_type": "markdown",
   "metadata": {},
   "source": [
    "### Creating a simple Neural network without Normalization"
   ]
  },
  {
   "cell_type": "code",
   "execution_count": 6,
   "metadata": {},
   "outputs": [],
   "source": [
    "## Simple NN: no-layer normalization\n",
    "class SimpleNN(nn.Module):\n",
    "    def __init__(self, input_dim):\n",
    "        super(SimpleNN, self).__init__()\n",
    "        ## layer 1: input layer\n",
    "        self.ly1 = nn.Linear(input_dim, 128)\n",
    "        self.relu1 = nn.ReLU()\n",
    "        ## layer 2: hidden layer\n",
    "        self.ly2 = nn.Linear(128, 32)\n",
    "        self.relu2 = nn.ReLU()\n",
    "        ## layer 3: output layer\n",
    "        self.ly3 = nn.Linear(32, 1)\n",
    "\n",
    "    def forward(self, x):\n",
    "        ## layer 1: input layer\n",
    "        x = self.ly1(x)\n",
    "        x = self.relu1(x)\n",
    "        ## layer 2: hidden layer\n",
    "        x = self.ly2(x)\n",
    "        x = self.relu2(x)\n",
    "        ## layer 3: output layer\n",
    "        x = self.ly3(x)\n",
    "        return x\n",
    "\n",
    "\n",
    "## Layer Normalized NN\n",
    "class LayerNormNN(nn.Module):\n",
    "    def __init__(self, input_dim):\n",
    "        super(LayerNormNN, self).__init__()\n",
    "        ## layer 1: input layer\n",
    "        self.ly1 = nn.Linear(input_dim, 128)\n",
    "        self.layer_norm1 = nn.LayerNorm(128)\n",
    "        self.relu1 = nn.ReLU()\n",
    "        ## layer 2: hidden layer\n",
    "        self.ly2 = nn.Linear(128, 32)\n",
    "        self.layer_norm2 = nn.LayerNorm(32)\n",
    "        self.relu2 = nn.ReLU()\n",
    "        ## layer 3: output layer\n",
    "        self.ly3 = nn.Linear(32, 1)\n",
    "    \n",
    "    def forward(self, x):\n",
    "        ## layer 1: input layer\n",
    "        x = self.ly1(x)\n",
    "        x = self.layer_norm1(x)\n",
    "        x = self.relu1(x)\n",
    "        ## layer 2: hidden layer\n",
    "        x = self.ly2(x)\n",
    "        x = self.layer_norm2(x)\n",
    "        x = self.relu2(x)\n",
    "        ## layer 3: output layer\n",
    "        x = self.ly3(x)\n",
    "        return x\n",
    "\n",
    "        "
   ]
  },
  {
   "cell_type": "markdown",
   "metadata": {},
   "source": [
    "#### Function to implement the training loop"
   ]
  },
  {
   "cell_type": "code",
   "execution_count": 7,
   "metadata": {},
   "outputs": [],
   "source": [
    "def train(model, optimizer, criterion, X_train, y_train, X_test, y_test, epochs = 100):\n",
    "\n",
    "    train_losses = []\n",
    "    test_losses = []\n",
    "\n",
    "    for epoch in range(epochs):\n",
    "\n",
    "        y_pred = model(X_train)\n",
    "        loss = criterion(y_pred, y_train)\n",
    "\n",
    "        ## Backward pass\n",
    "        optimizer.zero_grad()\n",
    "        loss.backward()\n",
    "        optimizer.step()\n",
    "\n",
    "        # Computing Test Losss\n",
    "        with torch.no_grad():\n",
    "            y_test_pred = model(X_test)\n",
    "            test_loss = criterion(y_test_pred, y_test)\n",
    "        \n",
    "        train_losses.append(loss.item())\n",
    "        test_losses.append(test_loss.item())\n",
    "    \n",
    "    return train_losses, test_losses\n",
    "\n"
   ]
  },
  {
   "cell_type": "code",
   "execution_count": 8,
   "metadata": {},
   "outputs": [],
   "source": [
    "## initializing the two models\n",
    "model_no_norm = SimpleNN(n_features)\n",
    "model_with_norm = LayerNormNN(n_features)\n",
    "\n",
    "## Defining the optimizer and the loss functions\n",
    "criterion = nn.MSELoss()\n",
    "optimizer_no_norm = optim.Adam(model_no_norm.parameters(), lr = 1e-2)\n",
    "optimizer_ly_norm = optim.Adam(model_with_norm.parameters(), lr = 1e-2)\n",
    "\n",
    "## Defining the training loops\n",
    "epochs = 100\n",
    "train_losses_no_norm, test_losses_no_norm = train(model = model_no_norm,\n",
    "                                                  optimizer = optimizer_no_norm,\n",
    "                                                  criterion = criterion,\n",
    "                                                  X_train = X_train, \n",
    "                                                  y_train = y_train, \n",
    "                                                  X_test = X_test, \n",
    "                                                  y_test = y_test, \n",
    "                                                  epochs = epochs)\n",
    "\n",
    "train_losses_with_norm, test_losses_with_norm = train(model = model_with_norm,\n",
    "                                                  optimizer = optimizer_ly_norm,\n",
    "                                                  criterion = criterion,\n",
    "                                                  X_train = X_train, \n",
    "                                                  y_train = y_train, \n",
    "                                                  X_test = X_test, \n",
    "                                                  y_test = y_test, \n",
    "                                                  epochs = epochs)\n",
    "\n"
   ]
  },
  {
   "cell_type": "code",
   "execution_count": null,
   "metadata": {},
   "outputs": [],
   "source": []
  },
  {
   "cell_type": "code",
   "execution_count": 9,
   "metadata": {},
   "outputs": [
    {
     "data": {
      "image/png": "[encoded data removed]",
      "text/plain": [
       "<Figure size 1000x500 with 1 Axes>"
      ]
     },
     "metadata": {},
     "output_type": "display_data"
    }
   ],
   "source": [
    "## Plotting the Training losses\n",
    "\n",
    "plt.figure(figsize = (10, 5))\n",
    "plt.plot(train_losses_no_norm, \n",
    "\n",
    "         label = \"without Layer Norm\", \n",
    "         linestyle = \"--\",\n",
    "         color = \"red\")\n",
    "plt.plot(train_losses_with_norm, \n",
    "         label = \"With Layer Norm\", \n",
    "         linestyle = '-', \n",
    "         color = \"blue\")\n",
    "plt.xlabel('Epochs')\n",
    "plt.ylabel('Training Loss')\n",
    "plt.title(\"Effect of Layer Normalization on Training Stability\")\n",
    "plt.grid()\n",
    "plt.legend()\n",
    "plt.show()\n",
    "\n"
   ]
  },
  {
   "cell_type": "code",
   "execution_count": null,
   "metadata": {},
   "outputs": [],
   "source": []
  },
  {
   "cell_type": "code",
   "execution_count": 12,
   "metadata": {},
   "outputs": [
    {
     "name": "stdout",
     "output_type": "stream",
     "text": [
      "tensor([57.5879], grad_fn=<ViewBackward0>)\n",
      "tensor([58.2856], grad_fn=<ViewBackward0>)\n"
     ]
    }
   ],
   "source": [
    "rand_indx = np.random.randint(10000)\n",
    "\n",
    "print(model_no_norm(X[rand_indx]))\n",
    "print(model_with_norm(X[rand_indx]))"
   ]
  },
  {
   "cell_type": "markdown",
   "metadata": {},
   "source": [
    "## **Conclusions from the Curve**\n",
    "\n",
    "Based on the image, we can draw the following conclusions about the impact of **Layer Normalization** on training stability:\n",
    "\n",
    "### **Observations:**\n",
    "1. **Without Layer Normalization (Red Dashed Line)**\n",
    "   - Initially, the training loss drops sharply.\n",
    "   - However, it exhibits significant oscillations and instability in the early epochs.\n",
    "   - Eventually, the loss stabilizes, but this erratic behavior suggests inefficient weight updates and difficulties in convergence.\n",
    "\n",
    "2. **With Layer Normalization (Blue Line)**\n",
    "   - The training loss decreases in a much smoother manner.\n",
    "   - However, the rate of convergence is slower compared to the model without normalization.\n",
    "   - This suggests that while layer normalization stabilizes training, it may require more epochs to reach optimal performance.\n",
    "\n",
    "### **Conclusion:**\n",
    "- **Layer Normalization improves training stability** by preventing drastic fluctuations in weight updates.\n",
    "- However, it may lead to **slower convergence** initially since it normalizes feature activations, thereby controlling gradient magnitudes.\n",
    "- In real-world scenarios, the benefits of stability often outweigh faster but unstable convergence, making Layer Normalization particularly useful in **deep networks and NLP models like Transformers**.\n",
    "\n"
   ]
  },
  {
   "cell_type": "code",
   "execution_count": null,
   "metadata": {},
   "outputs": [],
   "source": []
  },
  {
   "cell_type": "code",
   "execution_count": null,
   "metadata": {},
   "outputs": [],
   "source": []
  }
 ],
 "metadata": {
  "kernelspec": {
   "display_name": "pytorch_lessons",
   "language": "python",
   "name": "python3"
  },
  "language_info": {
   "codemirror_mode": {
    "name": "ipython",
    "version": 3
   },
   "file_extension": ".py",
   "mimetype": "text/x-python",
   "name": "python",
   "nbconvert_exporter": "python",
   "pygments_lexer": "ipython3",
   "version": "3.12.2"
  }
 },
 "nbformat": 4,
 "nbformat_minor": 2
}
